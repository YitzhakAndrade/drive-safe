{
 "cells": [
  {
   "cell_type": "code",
   "execution_count": 1,
   "metadata": {
    "collapsed": true
   },
   "outputs": [],
   "source": [
    "import pandas as pd\n",
    "import numpy as np\n",
    "import csv"
   ]
  },
  {
   "cell_type": "code",
   "execution_count": 17,
   "metadata": {
    "collapsed": true
   },
   "outputs": [],
   "source": [
    "df = pd.read_csv('data/perfil_envolvidos_acidente_final.csv', error_bad_lines=False, encoding='utf-8')"
   ]
  },
  {
   "cell_type": "code",
   "execution_count": null,
   "metadata": {
    "collapsed": true
   },
   "outputs": [],
   "source": [
    "df"
   ]
  },
  {
   "cell_type": "code",
   "execution_count": null,
   "metadata": {
    "collapsed": true
   },
   "outputs": [],
   "source": [
    "df = df.applymap(lambda x: x.strip() if type(x) is str else x)"
   ]
  },
  {
   "cell_type": "code",
   "execution_count": 39,
   "metadata": {},
   "outputs": [
    {
     "name": "stdout",
     "output_type": "stream",
     "text": [
      "numero_envolvido\n",
      "0       120\n",
      "1     73959\n",
      "2     67464\n",
      "3     16912\n",
      "4      3566\n",
      "5      1146\n",
      "6       500\n",
      "7       249\n",
      "8       162\n",
      "9       112\n",
      "10       86\n",
      "11       67\n",
      "12       50\n",
      "13       38\n",
      "14       32\n",
      "15       28\n",
      "16       24\n",
      "17       21\n",
      "18       19\n",
      "19       19\n",
      "20       14\n",
      "21       12\n",
      "22       11\n",
      "23       11\n",
      "24       11\n",
      "25       10\n",
      "26        8\n",
      "27        7\n",
      "28        7\n",
      "29        6\n",
      "30        7\n",
      "31        5\n",
      "32        4\n",
      "33        4\n",
      "34        3\n",
      "35        2\n",
      "36        1\n",
      "37        1\n",
      "38        1\n",
      "39        1\n",
      "dtype: int64\n",
      "condutor\n",
      "NÃO     35582\n",
      "SIM    128915\n",
      "dtype: int64\n",
      "desc_severidade\n",
      "                   7379\n",
      "FATAL               895\n",
      "NAO FATAL         90638\n",
      "SEM FERIMENTOS    63699\n",
      "dtype: int64\n",
      "sexo\n",
      "          2\n",
      "0      8986\n",
      "F     38033\n",
      "M    117679\n",
      "dtype: int64\n",
      "cinto_seguranca\n",
      "NÃO      52\n",
      "SIM    7739\n",
      "dtype: int64\n",
      "Embreagues\n",
      "NÃO     74\n",
      "SIM    753\n",
      "dtype: int64\n",
      "categoria_habilitacao\n",
      "      26641\n",
      "A     10653\n",
      "AB    25281\n",
      "AC      613\n",
      "AD     7871\n",
      "AE     1487\n",
      "AP       26\n",
      "B     30912\n",
      "C       707\n",
      "D      8349\n",
      "E      1070\n",
      "I        37\n",
      "IN     2980\n",
      "N     33111\n",
      "dtype: int64\n",
      "descricao_habilitacao\n",
      "                                                                74714\n",
      "APRENDIZAGEM                                                       26\n",
      "CONJ. VEICULOS ACOPLADOS QUE NÃO  SE INCLUE NAS CATEG. B C D     1070\n",
      "HABILITADO NAS CATEGORIAS A  e B                                25281\n",
      "HABILITADO NAS CATEGORIAS A e C                                   613\n",
      "HABILITADO NAS CATEGORIAS A e D                                  7871\n",
      "HABILITADO NAS CATEGORIAS A e E                                  1487\n",
      "INABILITADO                                                      3017\n",
      "VEIC. MOTOR. P/ TRANSP. DE CARGA C/ PESO MAX. AUT. 3500 KG        707\n",
      "VEIC. MOTOR. P/ TRANSP. DE PASSAG C/ MAIS DE 8 PASSAGEIROS       8349\n",
      "VEICULO MOTORIZ. DE 2 OU 3 RODAS C/ OU S/ CARRO LATERAL         10653\n",
      "VEICULOS MOTOR. COM ATE 8 PASSAGEIROS PESO MAXIMO 3500 KG       30912\n",
      "dtype: int64\n",
      "especie_veiculo\n",
      "                          37428\n",
      "AUTOMOVEL                 60835\n",
      "BICICLETA                  1964\n",
      "BONDE                         4\n",
      "CAMINHAO                   2648\n",
      "CAMINHAO-TRATOR             264\n",
      "CAMIONETA                  2611\n",
      "CARRO DE MAO                 37\n",
      "CARROCA                      58\n",
      "CHARRETE                      2\n",
      "CICLOMOTOR                  322\n",
      "ESPECIAL                      7\n",
      "MICROONIBUS                 620\n",
      "MISTO                         6\n",
      "MOTOCICLETA               47023\n",
      "MOTONETA                    631\n",
      "ONIBUS                    10100\n",
      "REBOQUE E SEMI-REBOQUE       86\n",
      "TRACAO                        6\n",
      "TRATOR DE ESTEIRAS            1\n",
      "TRATOR DE RODAS              19\n",
      "TRATOR MISTO                  6\n",
      "TREM                         12\n",
      "TRICICLO                     10\n",
      "dtype: int64\n"
     ]
    }
   ],
   "source": [
    "cols = [\n",
    "\t#'data_hora_boletim',\n",
    "\t'numero_envolvido',\n",
    "\t'condutor',\n",
    "\t'desc_severidade',\n",
    "\t'sexo',\n",
    "\t'cinto_seguranca',\n",
    "\t'Embreagues',\n",
    "\t#'Idade',\n",
    "\t#'nascimento',\n",
    "\t'categoria_habilitacao',\n",
    "\t'descricao_habilitacao',\n",
    "\t'especie_veiculo',\n",
    "\t#'indicador_pedestre', # vazio\n",
    "\t#'indicador_passageiro', # vazio\n",
    "\t#'indicador_usa_capacete' # vazio\n",
    "]\n",
    "\n",
    "for c in cols:\n",
    "    print( df.groupby([c]).size() )\n"
   ]
  },
  {
   "cell_type": "code",
   "execution_count": 38,
   "metadata": {},
   "outputs": [],
   "source": [
    "df['desc_severidade'] = df['desc_severidade'].replace('NÃO  FATAL', 'NAO FATAL')"
   ]
  },
  {
   "cell_type": "code",
   "execution_count": 40,
   "metadata": {
    "collapsed": true
   },
   "outputs": [],
   "source": [
    "df.to_csv('data/perfil_envolvidos_acidente_final_2.csv', sep=',', encoding='latin1', index=False)"
   ]
  }
 ],
 "metadata": {
  "kernelspec": {
   "display_name": "Python 3",
   "language": "python",
   "name": "python3"
  },
  "language_info": {
   "codemirror_mode": {
    "name": "ipython",
    "version": 3
   },
   "file_extension": ".py",
   "mimetype": "text/x-python",
   "name": "python",
   "nbconvert_exporter": "python",
   "pygments_lexer": "ipython3",
   "version": "3.6.3"
  }
 },
 "nbformat": 4,
 "nbformat_minor": 2
}
