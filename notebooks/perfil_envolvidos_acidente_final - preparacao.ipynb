{
 "cells": [
  {
   "cell_type": "code",
   "execution_count": 2,
   "metadata": {
    "collapsed": true
   },
   "outputs": [],
   "source": [
    "import pandas as pd\n",
    "import numpy as np"
   ]
  },
  {
   "cell_type": "code",
   "execution_count": 103,
   "metadata": {},
   "outputs": [],
   "source": [
    "import csv\n",
    "\n",
    "repl_dict = {\n",
    "    'VEIC. MOTOR. P/ TRANSP. DE PASSAG, C/ MAIS DE 8 PASSAGEIROS' :\n",
    "    'VEIC. MOTOR. P/ TRANSP. DE PASSAG C/ MAIS DE 8 PASSAGEIROS',\n",
    "\n",
    "    'VEICULO MOTORIZ. DE 2 OU 3 RODAS, C/ OU S/ CARRO LATERAL' :\n",
    "    'VEICULO MOTORIZ. DE 2 OU 3 RODAS C/ OU S/ CARRO LATERAL',\n",
    "\n",
    "    'CONJ. VEICULOS ACOPLADOS QUE NÃO  SE INCLUE NAS CATEG. B,C,D' :\n",
    "    'CONJ. VEICULOS ACOPLADOS QUE NÃO  SE INCLUE NAS CATEG. B C D',\n",
    "\n",
    "    'VEIC. MOTOR. P/ TRANSP. DE CARGA, C/ PESO MAX. AUT. 3500 KG' :\n",
    "    'VEIC. MOTOR. P/ TRANSP. DE CARGA C/ PESO MAX. AUT. 3500 KG',\n",
    "    \n",
    "    'VEICULOS MOTOR. COM ATE 8 PASSAGEIROS, PESO MAXIMO 3500 KG' :\n",
    "    'VEICULOS MOTOR. COM ATE 8 PASSAGEIROS PESO MAXIMO 3500 KG',\n",
    "    \n",
    "    'VEÍCULO MOTORIZ. DE 2 OU 3 RODAS, C/ OU S/ CARRO LATERAL' :\n",
    "    'VEICULO MOTORIZ. DE 2 OU 3 RODAS C/ OU S/ CARRO LATERAL',\n",
    "    \n",
    "    'CONJ. VEICULOS ACOPLADOS,QUE NAO SE INCLUE NAS CATEG. B,C,D' : \n",
    "    'CONJ. VEICULOS ACOPLADOS QUE NÃO  SE INCLUE NAS CATEG. B C D',\n",
    "    \n",
    "}\n"
   ]
  },
  {
   "cell_type": "code",
   "execution_count": 104,
   "metadata": {
    "collapsed": true
   },
   "outputs": [],
   "source": [
    "for year in range (1,6):\n",
    "    with open('data/dataset_perfil_envolvidos_acidente_ref201'+str(year)+'_out.csv', 'w') as csvfile_w:\n",
    "        with open('data/dataset_perfil_envolvidos_acidente_ref201'+str(year)+'.csv', 'r', encoding='latin1') as csvfile_r:\n",
    "            for row in csvfile_r:\n",
    "                new_row = row.replace(';', ',')\n",
    "                for ix in repl_dict:\n",
    "                    new_row = new_row.replace(ix, repl_dict[ix])\n",
    "                csvfile_w.write(new_row)"
   ]
  },
  {
   "cell_type": "code",
   "execution_count": 105,
   "metadata": {},
   "outputs": [],
   "source": [
    "df = pd.read_csv('data/dataset_perfil_envolvidos_acidente_ref2013_out.csv', error_bad_lines=False, encoding='utf-8')"
   ]
  },
  {
   "cell_type": "code",
   "execution_count": 123,
   "metadata": {
    "scrolled": true
   },
   "outputs": [],
   "source": [
    "df = {}\n",
    "for year in range (1,6):\n",
    "    df[year] = pd.read_csv('data/dataset_perfil_envolvidos_acidente_ref201'+str(year)+'_out.csv', error_bad_lines=False, encoding='latin1')"
   ]
  },
  {
   "cell_type": "code",
   "execution_count": 125,
   "metadata": {},
   "outputs": [
    {
     "name": "stdout",
     "output_type": "stream",
     "text": [
      "Index(['data_hora_boletim', 'numero_envolvido', 'condutor', 'desc_severidade',\n",
      "       'sexo', 'cinto_seguranca', 'Embreagues', 'Idade', 'nascimento',\n",
      "       'categoria_habilitacao', 'descricao_habilitacao', 'especie_veiculo',\n",
      "       'indicador_pedestre', 'indicador_passageiro', 'indicador_usa_capacete'],\n",
      "      dtype='object')\n",
      "Index(['data_hora_boletim', 'numero_envolvido', 'condutor', 'desc_severidade',\n",
      "       'sexo', 'cinto_seguranca', 'Embreagues', 'Idade', 'nascimento',\n",
      "       'categoria_habilitacao', 'descricao_habilitacao', 'especie_veiculo',\n",
      "       'indicador_pedestre', 'indicador_passageiro', 'indicador_usa_capacete'],\n",
      "      dtype='object')\n",
      "Index(['data_hora_boletim', 'numero_envolvido', 'condutor', 'desc_severidade',\n",
      "       'sexo', 'cinto_seguranca', 'Embreagues', 'Idade', 'nascimento',\n",
      "       'categoria_habilitacao', 'descricao_habilitacao', 'especie_veiculo',\n",
      "       'indicador_pedestre', 'indicador_passageiro', 'indicador_usa_capacete'],\n",
      "      dtype='object')\n",
      "Index(['data_hora_boletim', 'numero_envolvido', 'condutor', 'desc_severidade',\n",
      "       'sexo', 'cinto_seguranca', 'Embreagues', 'Idade', 'nascimento',\n",
      "       'categoria_habilitacao', 'descricao_habilitacao', 'especie_veiculo',\n",
      "       'indicador_pedestre', 'indicador_passageiro', 'indicador_usa_capacete'],\n",
      "      dtype='object')\n",
      "Index(['data_hora_boletim', 'numero_envolvido', 'condutor', 'desc_severidade',\n",
      "       'sexo', 'cinto_seguranca', 'Embreagues', 'Idade', 'nascimento',\n",
      "       'categoria_habilitacao', 'descricao_habilitacao', 'especie_veiculo',\n",
      "       'indicador_pedestre', 'indicador_passageiro', 'indicador_usa_capacete'],\n",
      "      dtype='object')\n"
     ]
    }
   ],
   "source": [
    "for i in df:\n",
    "    print(df[i].columns)"
   ]
  },
  {
   "cell_type": "code",
   "execution_count": 132,
   "metadata": {},
   "outputs": [],
   "source": [
    "df_final = pd.concat(list(df.values()))"
   ]
  },
  {
   "cell_type": "code",
   "execution_count": 137,
   "metadata": {},
   "outputs": [],
   "source": [
    "df_final.to_csv('data/perfil_envolvidos_acidente_final.csv', sep=',', encoding='latin1', index=False)"
   ]
  },
  {
   "cell_type": "code",
   "execution_count": 108,
   "metadata": {
    "collapsed": true
   },
   "outputs": [],
   "source": [
    "# tem q tratar os headers\n",
    "# o arquivo do ultimo ano tem uma coluna a mais no final (em branco)\n",
    "\n",
    "with open('data/dataset_perfil_envolvidos_acidente_ref2011_2015_out.csv', 'w') as csvfile_w:\n",
    "    for year in range (1,6):\n",
    "        with open('data/dataset_perfil_envolvidos_acidente_ref201'+str(year)+'.csv', 'r', encoding='latin1') as csvfile_r:\n",
    "            for row in csvfile_r:\n",
    "                new_row = row.replace(';', ',')\n",
    "                for ix in repl_dict:\n",
    "                    new_row = new_row.replace(ix, repl_dict[ix])\n",
    "                csvfile_w.write(new_row)"
   ]
  }
 ],
 "metadata": {
  "kernelspec": {
   "display_name": "Python 3",
   "language": "python",
   "name": "python3"
  },
  "language_info": {
   "codemirror_mode": {
    "name": "ipython",
    "version": 3
   },
   "file_extension": ".py",
   "mimetype": "text/x-python",
   "name": "python",
   "nbconvert_exporter": "python",
   "pygments_lexer": "ipython3",
   "version": "3.6.3"
  }
 },
 "nbformat": 4,
 "nbformat_minor": 2
}
