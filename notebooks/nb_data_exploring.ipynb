{
 "cells": [
  {
   "cell_type": "code",
   "execution_count": 99,
   "metadata": {},
   "outputs": [],
   "source": [
    "import pandas as pd\n",
    "import glob\n",
    "import matplotlib.pyplot as plt\n",
    "import seaborn\n",
    "plt.style.use('seaborn-dark')"
   ]
  },
  {
   "cell_type": "markdown",
   "metadata": {},
   "source": [
    "### Lendo os dados"
   ]
  },
  {
   "cell_type": "code",
   "execution_count": 100,
   "metadata": {
    "collapsed": true
   },
   "outputs": [],
   "source": [
    "files = glob.glob(\"*.csv\")"
   ]
  },
  {
   "cell_type": "code",
   "execution_count": 101,
   "metadata": {},
   "outputs": [],
   "source": [
    "frames = list()\n",
    "col = [\"numero_boletim\", \"data hora_boletim\", \"data_inclusao\", \"tipo_acidente\", \"desc_tipo_acidente\", \"cod_tempo\", \"desc_tempo\", \"cod_pavimento\", \"pavimento\",\"cod_regional\", \"desc_regional\", \"origem_boletim\", \"local_sinalizado\", \"velocidade_permitida\", \"coordenada_x\", \"coordenada_y\", \"hora_informada\", \"indicador_fatalidade\", \"valor_ups\", \"descricao_ups\", \"data_alteracao_smsa\", \"valor_ups_antiga\", \"descricao_ups_antiga\"]\n",
    "for file in files:\n",
    "        frames.append(pd.read_csv(file, encoding = \"ISO 8859-1\",sep=';',\n",
    "                      names=col, usecols=col,index_col='data hora_boletim',\n",
    "                      parse_dates=['data hora_boletim','data_inclusao',\"hora_informada\"],skiprows=1))\n",
    "df = pd.concat(frames)   "
   ]
  },
  {
   "cell_type": "code",
   "execution_count": 102,
   "metadata": {},
   "outputs": [
    {
     "data": {
      "text/html": [
       "<div>\n",
       "<style>\n",
       "    .dataframe thead tr:only-child th {\n",
       "        text-align: right;\n",
       "    }\n",
       "\n",
       "    .dataframe thead th {\n",
       "        text-align: left;\n",
       "    }\n",
       "\n",
       "    .dataframe tbody tr th {\n",
       "        vertical-align: top;\n",
       "    }\n",
       "</style>\n",
       "<table border=\"1\" class=\"dataframe\">\n",
       "  <thead>\n",
       "    <tr style=\"text-align: right;\">\n",
       "      <th></th>\n",
       "      <th>numero_boletim</th>\n",
       "      <th>data_inclusao</th>\n",
       "      <th>tipo_acidente</th>\n",
       "      <th>desc_tipo_acidente</th>\n",
       "      <th>cod_tempo</th>\n",
       "      <th>desc_tempo</th>\n",
       "      <th>cod_pavimento</th>\n",
       "      <th>pavimento</th>\n",
       "      <th>cod_regional</th>\n",
       "      <th>desc_regional</th>\n",
       "      <th>...</th>\n",
       "      <th>velocidade_permitida</th>\n",
       "      <th>coordenada_x</th>\n",
       "      <th>coordenada_y</th>\n",
       "      <th>hora_informada</th>\n",
       "      <th>indicador_fatalidade</th>\n",
       "      <th>valor_ups</th>\n",
       "      <th>descricao_ups</th>\n",
       "      <th>data_alteracao_smsa</th>\n",
       "      <th>valor_ups_antiga</th>\n",
       "      <th>descricao_ups_antiga</th>\n",
       "    </tr>\n",
       "    <tr>\n",
       "      <th>data hora_boletim</th>\n",
       "      <th></th>\n",
       "      <th></th>\n",
       "      <th></th>\n",
       "      <th></th>\n",
       "      <th></th>\n",
       "      <th></th>\n",
       "      <th></th>\n",
       "      <th></th>\n",
       "      <th></th>\n",
       "      <th></th>\n",
       "      <th></th>\n",
       "      <th></th>\n",
       "      <th></th>\n",
       "      <th></th>\n",
       "      <th></th>\n",
       "      <th></th>\n",
       "      <th></th>\n",
       "      <th></th>\n",
       "      <th></th>\n",
       "      <th></th>\n",
       "      <th></th>\n",
       "    </tr>\n",
       "  </thead>\n",
       "  <tbody>\n",
       "    <tr>\n",
       "      <th>2011-12-31 21:35:00</th>\n",
       "      <td>9</td>\n",
       "      <td>2012-02-14</td>\n",
       "      <td>H06002</td>\n",
       "      <td>ATROPELAMENTO DE PESSOA SEM VITIMA FATAL      ...</td>\n",
       "      <td>0</td>\n",
       "      <td>NAO INFORMADO</td>\n",
       "      <td>0</td>\n",
       "      <td>NAO INFORMADO</td>\n",
       "      <td>26</td>\n",
       "      <td>VENDA NOVA</td>\n",
       "      <td>...</td>\n",
       "      <td>0</td>\n",
       "      <td>60643717.0</td>\n",
       "      <td>81070137.0</td>\n",
       "      <td>SIM</td>\n",
       "      <td>NÃO</td>\n",
       "      <td>5</td>\n",
       "      <td>ACIDENTE COM VÍTIMA NÃO FATAL</td>\n",
       "      <td>00/00/0000</td>\n",
       "      <td>0</td>\n",
       "      <td>NÃO INFORMADO</td>\n",
       "    </tr>\n",
       "    <tr>\n",
       "      <th>2011-12-31 22:16:00</th>\n",
       "      <td>161</td>\n",
       "      <td>2012-02-14</td>\n",
       "      <td>H08002</td>\n",
       "      <td>CHOQUE MECANICO COM VITIMA                    ...</td>\n",
       "      <td>1</td>\n",
       "      <td>BOM</td>\n",
       "      <td>1</td>\n",
       "      <td>ASFALTO</td>\n",
       "      <td>18</td>\n",
       "      <td>BARREIRO</td>\n",
       "      <td>...</td>\n",
       "      <td>0</td>\n",
       "      <td>0.0</td>\n",
       "      <td>0.0</td>\n",
       "      <td>SIM</td>\n",
       "      <td>NÃO</td>\n",
       "      <td>5</td>\n",
       "      <td>ACIDENTE COM VÍTIMA NÃO FATAL</td>\n",
       "      <td>00/00/0000</td>\n",
       "      <td>0</td>\n",
       "      <td>NÃO INFORMADO</td>\n",
       "    </tr>\n",
       "    <tr>\n",
       "      <th>2011-01-01 00:50:00</th>\n",
       "      <td>198</td>\n",
       "      <td>2011-10-02</td>\n",
       "      <td>H01002</td>\n",
       "      <td>ABALROAMENTO COM VITIMA                       ...</td>\n",
       "      <td>1</td>\n",
       "      <td>BOM</td>\n",
       "      <td>1</td>\n",
       "      <td>ASFALTO</td>\n",
       "      <td>19</td>\n",
       "      <td>CENTRO-SUL</td>\n",
       "      <td>...</td>\n",
       "      <td>0</td>\n",
       "      <td>60987128.0</td>\n",
       "      <td>79731533.0</td>\n",
       "      <td>SIM</td>\n",
       "      <td>NÃO</td>\n",
       "      <td>5</td>\n",
       "      <td>ACIDENTE COM VÍTIMA NÃO FATAL</td>\n",
       "      <td>00/00/0000</td>\n",
       "      <td>0</td>\n",
       "      <td>NÃO INFORMADO</td>\n",
       "    </tr>\n",
       "    <tr>\n",
       "      <th>2011-01-01 00:20:00</th>\n",
       "      <td>223</td>\n",
       "      <td>2011-10-02</td>\n",
       "      <td>H04000</td>\n",
       "      <td>QUEDA DE PESSOA DE VEICULO                    ...</td>\n",
       "      <td>1</td>\n",
       "      <td>BOM</td>\n",
       "      <td>1</td>\n",
       "      <td>ASFALTO</td>\n",
       "      <td>20</td>\n",
       "      <td>LESTE</td>\n",
       "      <td>...</td>\n",
       "      <td>0</td>\n",
       "      <td>61411252.0</td>\n",
       "      <td>79710700.0</td>\n",
       "      <td>SIM</td>\n",
       "      <td>NÃO</td>\n",
       "      <td>5</td>\n",
       "      <td>ACIDENTE COM VÍTIMA NÃO FATAL</td>\n",
       "      <td>00/00/0000</td>\n",
       "      <td>0</td>\n",
       "      <td>NÃO INFORMADO</td>\n",
       "    </tr>\n",
       "    <tr>\n",
       "      <th>2011-12-31 23:39:00</th>\n",
       "      <td>246</td>\n",
       "      <td>2012-09-01</td>\n",
       "      <td>H02002</td>\n",
       "      <td>CAPOTAMENTO/TOMBAMENTO COM VITIMA             ...</td>\n",
       "      <td>0</td>\n",
       "      <td>NAO INFORMADO</td>\n",
       "      <td>0</td>\n",
       "      <td>NAO INFORMADO</td>\n",
       "      <td>20</td>\n",
       "      <td>LESTE</td>\n",
       "      <td>...</td>\n",
       "      <td>0</td>\n",
       "      <td>61403481.0</td>\n",
       "      <td>79729531.0</td>\n",
       "      <td>SIM</td>\n",
       "      <td>NÃO</td>\n",
       "      <td>5</td>\n",
       "      <td>ACIDENTE COM VÍTIMA NÃO FATAL</td>\n",
       "      <td>00/00/0000</td>\n",
       "      <td>0</td>\n",
       "      <td>NÃO INFORMADO</td>\n",
       "    </tr>\n",
       "  </tbody>\n",
       "</table>\n",
       "<p>5 rows × 22 columns</p>\n",
       "</div>"
      ],
      "text/plain": [
       "                     numero_boletim data_inclusao tipo_acidente  \\\n",
       "data hora_boletim                                                 \n",
       "2011-12-31 21:35:00               9    2012-02-14        H06002   \n",
       "2011-12-31 22:16:00             161    2012-02-14        H08002   \n",
       "2011-01-01 00:50:00             198    2011-10-02        H01002   \n",
       "2011-01-01 00:20:00             223    2011-10-02        H04000   \n",
       "2011-12-31 23:39:00             246    2012-09-01        H02002   \n",
       "\n",
       "                                                    desc_tipo_acidente  \\\n",
       "data hora_boletim                                                        \n",
       "2011-12-31 21:35:00  ATROPELAMENTO DE PESSOA SEM VITIMA FATAL      ...   \n",
       "2011-12-31 22:16:00  CHOQUE MECANICO COM VITIMA                    ...   \n",
       "2011-01-01 00:50:00  ABALROAMENTO COM VITIMA                       ...   \n",
       "2011-01-01 00:20:00  QUEDA DE PESSOA DE VEICULO                    ...   \n",
       "2011-12-31 23:39:00  CAPOTAMENTO/TOMBAMENTO COM VITIMA             ...   \n",
       "\n",
       "                     cod_tempo       desc_tempo  cod_pavimento  \\\n",
       "data hora_boletim                                                \n",
       "2011-12-31 21:35:00          0  NAO INFORMADO                0   \n",
       "2011-12-31 22:16:00          1  BOM                          1   \n",
       "2011-01-01 00:50:00          1  BOM                          1   \n",
       "2011-01-01 00:20:00          1  BOM                          1   \n",
       "2011-12-31 23:39:00          0  NAO INFORMADO                0   \n",
       "\n",
       "                           pavimento  cod_regional    desc_regional  \\\n",
       "data hora_boletim                                                     \n",
       "2011-12-31 21:35:00  NAO INFORMADO              26  VENDA NOVA        \n",
       "2011-12-31 22:16:00  ASFALTO                    18  BARREIRO          \n",
       "2011-01-01 00:50:00  ASFALTO                    19  CENTRO-SUL        \n",
       "2011-01-01 00:20:00  ASFALTO                    20  LESTE             \n",
       "2011-12-31 23:39:00  NAO INFORMADO              20  LESTE             \n",
       "\n",
       "                            ...          velocidade_permitida coordenada_x  \\\n",
       "data hora_boletim           ...                                              \n",
       "2011-12-31 21:35:00         ...                             0   60643717.0   \n",
       "2011-12-31 22:16:00         ...                             0          0.0   \n",
       "2011-01-01 00:50:00         ...                             0   60987128.0   \n",
       "2011-01-01 00:20:00         ...                             0   61411252.0   \n",
       "2011-12-31 23:39:00         ...                             0   61403481.0   \n",
       "\n",
       "                     coordenada_y  hora_informada  indicador_fatalidade  \\\n",
       "data hora_boletim                                                         \n",
       "2011-12-31 21:35:00    81070137.0             SIM                   NÃO   \n",
       "2011-12-31 22:16:00           0.0             SIM                   NÃO   \n",
       "2011-01-01 00:50:00    79731533.0             SIM                   NÃO   \n",
       "2011-01-01 00:20:00    79710700.0             SIM                   NÃO   \n",
       "2011-12-31 23:39:00    79729531.0             SIM                   NÃO   \n",
       "\n",
       "                    valor_ups                  descricao_ups  \\\n",
       "data hora_boletim                                              \n",
       "2011-12-31 21:35:00         5  ACIDENTE COM VÍTIMA NÃO FATAL   \n",
       "2011-12-31 22:16:00         5  ACIDENTE COM VÍTIMA NÃO FATAL   \n",
       "2011-01-01 00:50:00         5  ACIDENTE COM VÍTIMA NÃO FATAL   \n",
       "2011-01-01 00:20:00         5  ACIDENTE COM VÍTIMA NÃO FATAL   \n",
       "2011-12-31 23:39:00         5  ACIDENTE COM VÍTIMA NÃO FATAL   \n",
       "\n",
       "                     data_alteracao_smsa valor_ups_antiga descricao_ups_antiga  \n",
       "data hora_boletim                                                               \n",
       "2011-12-31 21:35:00           00/00/0000                0        NÃO INFORMADO  \n",
       "2011-12-31 22:16:00           00/00/0000                0        NÃO INFORMADO  \n",
       "2011-01-01 00:50:00           00/00/0000                0        NÃO INFORMADO  \n",
       "2011-01-01 00:20:00           00/00/0000                0        NÃO INFORMADO  \n",
       "2011-12-31 23:39:00           00/00/0000                0        NÃO INFORMADO  \n",
       "\n",
       "[5 rows x 22 columns]"
      ]
     },
     "execution_count": 102,
     "metadata": {},
     "output_type": "execute_result"
    }
   ],
   "source": [
    "df.head()"
   ]
  },
  {
   "cell_type": "markdown",
   "metadata": {},
   "source": [
    "### Análise descritiva"
   ]
  },
  {
   "cell_type": "code",
   "execution_count": 103,
   "metadata": {},
   "outputs": [
    {
     "data": {
      "text/html": [
       "<div>\n",
       "<style>\n",
       "    .dataframe thead tr:only-child th {\n",
       "        text-align: right;\n",
       "    }\n",
       "\n",
       "    .dataframe thead th {\n",
       "        text-align: left;\n",
       "    }\n",
       "\n",
       "    .dataframe tbody tr th {\n",
       "        vertical-align: top;\n",
       "    }\n",
       "</style>\n",
       "<table border=\"1\" class=\"dataframe\">\n",
       "  <thead>\n",
       "    <tr style=\"text-align: right;\">\n",
       "      <th></th>\n",
       "      <th>tipo_acidente</th>\n",
       "      <th>desc_tipo_acidente</th>\n",
       "      <th>desc_tempo</th>\n",
       "      <th>pavimento</th>\n",
       "      <th>desc_regional</th>\n",
       "      <th>origem_boletim</th>\n",
       "      <th>local_sinalizado</th>\n",
       "      <th>hora_informada</th>\n",
       "      <th>indicador_fatalidade</th>\n",
       "      <th>descricao_ups</th>\n",
       "      <th>data_alteracao_smsa</th>\n",
       "      <th>descricao_ups_antiga</th>\n",
       "    </tr>\n",
       "  </thead>\n",
       "  <tbody>\n",
       "    <tr>\n",
       "      <th>count</th>\n",
       "      <td>73964</td>\n",
       "      <td>73964</td>\n",
       "      <td>73964</td>\n",
       "      <td>73964</td>\n",
       "      <td>73964</td>\n",
       "      <td>73964</td>\n",
       "      <td>73964</td>\n",
       "      <td>73964</td>\n",
       "      <td>73964</td>\n",
       "      <td>73964</td>\n",
       "      <td>73964</td>\n",
       "      <td>73964</td>\n",
       "    </tr>\n",
       "    <tr>\n",
       "      <th>unique</th>\n",
       "      <td>11</td>\n",
       "      <td>11</td>\n",
       "      <td>5</td>\n",
       "      <td>4</td>\n",
       "      <td>10</td>\n",
       "      <td>5</td>\n",
       "      <td>3</td>\n",
       "      <td>2</td>\n",
       "      <td>2</td>\n",
       "      <td>2</td>\n",
       "      <td>1</td>\n",
       "      <td>1</td>\n",
       "    </tr>\n",
       "    <tr>\n",
       "      <th>top</th>\n",
       "      <td>H01002</td>\n",
       "      <td>ABALROAMENTO COM VITIMA                       ...</td>\n",
       "      <td>NAO INFORMADO</td>\n",
       "      <td>NAO INFORMADO</td>\n",
       "      <td>CENTRO-SUL</td>\n",
       "      <td>PMMG</td>\n",
       "      <td>NÃO INFORMADO</td>\n",
       "      <td>SIM</td>\n",
       "      <td>NÃO</td>\n",
       "      <td>ACIDENTE COM VÍTIMA NÃO FATAL</td>\n",
       "      <td>00/00/0000</td>\n",
       "      <td>NÃO INFORMADO</td>\n",
       "    </tr>\n",
       "    <tr>\n",
       "      <th>freq</th>\n",
       "      <td>30037</td>\n",
       "      <td>30037</td>\n",
       "      <td>58244</td>\n",
       "      <td>56930</td>\n",
       "      <td>15013</td>\n",
       "      <td>45703</td>\n",
       "      <td>72070</td>\n",
       "      <td>73918</td>\n",
       "      <td>73148</td>\n",
       "      <td>73111</td>\n",
       "      <td>73964</td>\n",
       "      <td>73964</td>\n",
       "    </tr>\n",
       "  </tbody>\n",
       "</table>\n",
       "</div>"
      ],
      "text/plain": [
       "       tipo_acidente                                 desc_tipo_acidente  \\\n",
       "count          73964                                              73964   \n",
       "unique            11                                                 11   \n",
       "top           H01002  ABALROAMENTO COM VITIMA                       ...   \n",
       "freq           30037                                              30037   \n",
       "\n",
       "             desc_tempo        pavimento    desc_regional   origem_boletim  \\\n",
       "count             73964            73964            73964            73964   \n",
       "unique                5                4               10                5   \n",
       "top     NAO INFORMADO    NAO INFORMADO    CENTRO-SUL       PMMG              \n",
       "freq              58244            56930            15013            45703   \n",
       "\n",
       "       local_sinalizado hora_informada indicador_fatalidade  \\\n",
       "count             73964          73964                73964   \n",
       "unique                3              2                    2   \n",
       "top       NÃO INFORMADO            SIM                  NÃO   \n",
       "freq              72070          73918                73148   \n",
       "\n",
       "                        descricao_ups data_alteracao_smsa descricao_ups_antiga  \n",
       "count                           73964               73964                73964  \n",
       "unique                              2                   1                    1  \n",
       "top     ACIDENTE COM VÍTIMA NÃO FATAL          00/00/0000        NÃO INFORMADO  \n",
       "freq                            73111               73964                73964  "
      ]
     },
     "execution_count": 103,
     "metadata": {},
     "output_type": "execute_result"
    }
   ],
   "source": [
    "#df.desc_tipo_acidente.replace({\"ATROPELAMENTO DE AMAL COM VITIMA                \":\"ATROPELAMENTO DE ANIMAL COM VITIMA                \",\n",
    "#                              'CHOQUE MECACO COM VITIMA                        ':'CHOQUE MECANICO COM VITIMA                        '},inplace=True)\n",
    "df.describe(include=['O'])"
   ]
  },
  {
   "cell_type": "code",
   "execution_count": 104,
   "metadata": {},
   "outputs": [],
   "source": [
    "df = df.applymap(lambda x: x.strip() if type(x) is str else x)\n",
    "#for col in df.columns:\n",
    "#    if df[col].dtypes == 'float64':\n",
    "#        continue\n",
    "#    df[col] = df[col].astype(str).str.strip()"
   ]
  },
  {
   "cell_type": "code",
   "execution_count": 105,
   "metadata": {},
   "outputs": [
    {
     "data": {
      "image/png": "[encoded data removed]",
      "text/plain": [
       "<matplotlib.figure.Figure at 0x7f4dd1bfcbe0>"
      ]
     },
     "metadata": {},
     "output_type": "display_data"
    }
   ],
   "source": [
    "%matplotlib inline \n",
    "field = \"desc_tipo_acidente\"\n",
    "df[field].dropna().value_counts().plot(kind='bar')\n",
    "plt.show()"
   ]
  },
  {
   "cell_type": "code",
   "execution_count": 106,
   "metadata": {},
   "outputs": [
    {
     "data": {
      "image/png": "[encoded data removed]",
      "text/plain": [
       "<matplotlib.figure.Figure at 0x7f4dd3aa3550>"
      ]
     },
     "metadata": {},
     "output_type": "display_data"
    }
   ],
   "source": [
    "%matplotlib inline \n",
    "field = \"desc_regional\"\n",
    "df[field].dropna().value_counts().plot(kind='bar')\n",
    "plt.show()"
   ]
  },
  {
   "cell_type": "code",
   "execution_count": 107,
   "metadata": {},
   "outputs": [
    {
     "data": {
      "image/png": "[encoded data removed]",
      "text/plain": [
       "<matplotlib.figure.Figure at 0x7f4ddc7fa5c0>"
      ]
     },
     "metadata": {},
     "output_type": "display_data"
    }
   ],
   "source": [
    "%matplotlib inline \n",
    "field = \"origem_boletim\"\n",
    "df[field].dropna().value_counts().plot(kind='bar')\n",
    "plt.show()"
   ]
  },
  {
   "cell_type": "code",
   "execution_count": 108,
   "metadata": {},
   "outputs": [
    {
     "data": {
      "text/plain": [
       "array(['ATROPELAMENTO DE PESSOA SEM VITIMA FATAL',\n",
       "       'CHOQUE MECANICO COM VITIMA', 'ABALROAMENTO COM VITIMA',\n",
       "       'QUEDA DE PESSOA DE VEICULO', 'CAPOTAMENTO/TOMBAMENTO COM VITIMA',\n",
       "       'OUTROS COM VITIMA', 'COLISAO DE VEICULOS COM VITIMA',\n",
       "       'QUEDA DE VEICULO COM VITIMA',\n",
       "       'ATROPELAMENTO DE PESSOA COM VITIMA FATAL',\n",
       "       'ATROPELAMENTO DE ANIMAL COM VITIMA',\n",
       "       'QUEDA E/OU VAZAMENTO DE CARGA DE VEICULO C/ VITIMA'], dtype=object)"
      ]
     },
     "execution_count": 108,
     "metadata": {},
     "output_type": "execute_result"
    }
   ],
   "source": [
    "df[\"desc_tipo_acidente\"].unique()"
   ]
  },
  {
   "cell_type": "code",
   "execution_count": 109,
   "metadata": {},
   "outputs": [
    {
     "data": {
      "image/png": "[encoded data removed]",
      "text/plain": [
       "<matplotlib.figure.Figure at 0x7f4ddc6a7588>"
      ]
     },
     "metadata": {},
     "output_type": "display_data"
    }
   ],
   "source": [
    "%matplotlib inline \n",
    "field = \"local_sinalizado\"\n",
    "df[field].dropna().value_counts().plot(kind='bar')\n",
    "plt.show()"
   ]
  },
  {
   "cell_type": "code",
   "execution_count": 110,
   "metadata": {},
   "outputs": [
    {
     "data": {
      "image/png": "[encoded data removed]",
      "text/plain": [
       "<matplotlib.figure.Figure at 0x7f4ddc53d3c8>"
      ]
     },
     "metadata": {},
     "output_type": "display_data"
    }
   ],
   "source": [
    "%matplotlib inline \n",
    "field = \"desc_tempo\"\n",
    "df[field].dropna().value_counts().plot(kind='bar')\n",
    "plt.show()"
   ]
  },
  {
   "cell_type": "code",
   "execution_count": 111,
   "metadata": {},
   "outputs": [
    {
     "data": {
      "image/png": "[encoded data removed]",
      "text/plain": [
       "<matplotlib.figure.Figure at 0x7f4ddc63f710>"
      ]
     },
     "metadata": {},
     "output_type": "display_data"
    }
   ],
   "source": [
    "%matplotlib inline \n",
    "field = \"pavimento\"\n",
    "df[field].dropna().value_counts().plot(kind='bar')\n",
    "plt.show()"
   ]
  },
  {
   "cell_type": "code",
   "execution_count": 112,
   "metadata": {},
   "outputs": [
    {
     "data": {
      "image/png": "[encoded data removed]",
      "text/plain": [
       "<matplotlib.figure.Figure at 0x7f4dd01787b8>"
      ]
     },
     "metadata": {},
     "output_type": "display_data"
    }
   ],
   "source": [
    "%matplotlib inline \n",
    "field = \"indicador_fatalidade\"\n",
    "df[field].dropna().value_counts().plot(kind='bar')\n",
    "plt.show()"
   ]
  },
  {
   "cell_type": "code",
   "execution_count": 113,
   "metadata": {},
   "outputs": [
    {
     "data": {
      "image/png": "[encoded data removed]",
      "text/plain": [
       "<matplotlib.figure.Figure at 0x7f4dd3d80be0>"
      ]
     },
     "metadata": {},
     "output_type": "display_data"
    }
   ],
   "source": [
    "%matplotlib inline \n",
    "field = \"tipo_acidente\"\n",
    "df[field].dropna().value_counts().plot(kind='bar')\n",
    "plt.show()"
   ]
  },
  {
   "cell_type": "code",
   "execution_count": 116,
   "metadata": {},
   "outputs": [],
   "source": [
    "df.drop([\"pavimento\",\"desc_tempo\",\"local_sinalizado\",\"descricao_ups_antiga\",\"data_alteracao_smsa\"],1,inplace=True)\n",
    "\n"
   ]
  },
  {
   "cell_type": "code",
   "execution_count": 120,
   "metadata": {
    "collapsed": true
   },
   "outputs": [],
   "source": [
    "df.to_csv(\"boletim_ocorencia.csv\")"
   ]
  }
 ],
 "metadata": {
  "kernelspec": {
   "display_name": "Python 3",
   "language": "python",
   "name": "python3"
  },
  "language_info": {
   "codemirror_mode": {
    "name": "ipython",
    "version": 3
   },
   "file_extension": ".py",
   "mimetype": "text/x-python",
   "name": "python",
   "nbconvert_exporter": "python",
   "pygments_lexer": "ipython3",
   "version": "3.6.3"
  }
 },
 "nbformat": 4,
 "nbformat_minor": 2
}
