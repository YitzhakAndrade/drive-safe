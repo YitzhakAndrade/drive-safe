{
 "cells": [
  {
   "cell_type": "code",
   "execution_count": 140,
   "metadata": {
    "collapsed": true
   },
   "outputs": [],
   "source": [
    "import pandas as pd\n",
    "import glob\n",
    "import matplotlib.pyplot as plt\n",
    "import seaborn\n",
    "plt.style.use('seaborn-dark')"
   ]
  },
  {
   "cell_type": "code",
   "execution_count": 141,
   "metadata": {},
   "outputs": [
    {
     "data": {
      "text/plain": [
       "['./dados/data_logradouro.csv',\n",
       " './dados/veiculos_consolidados.csv',\n",
       " './dados/boletim_ocorencia.csv',\n",
       " './dados/perfil_envolvidos_acidente_final.csv']"
      ]
     },
     "execution_count": 141,
     "metadata": {},
     "output_type": "execute_result"
    }
   ],
   "source": [
    "files = glob.glob(\"./dados/*.csv\")\n",
    "files"
   ]
  },
  {
   "cell_type": "markdown",
   "metadata": {},
   "source": [
    "df = pd.read_csv(\"./dados/boletim_ocorencia.csv\",encoding=\"ISO 8859-1\")\n",
    "for file in files:\n",
    "    temp = pd.read_csv(file,encoding=\"ISO 8859-1\")\n",
    "    if \"Unnamed: 0\" in temp.columns: temp.drop(\"Unnamed: 0\",1,inplace=True)\n",
    "    if \"data hora_boletim\" in temp.columns: temp.drop(\"data hora_boletim\",1,inplace=True)       \n",
    "    df = pd.merge(df,temp,on=\"numero_boletim\",how=\"outer\")"
   ]
  },
  {
   "cell_type": "code",
   "execution_count": 142,
   "metadata": {},
   "outputs": [],
   "source": [
    "df_bol = pd.read_csv(\"./dados/boletim_ocorencia.csv\")\n",
    "df_vei = pd.read_csv(\"./dados/veiculos_consolidados.csv\")\n",
    "df_log = pd.read_csv(\"./dados/data_logradouro.csv\")\n",
    "df_vit = pd.read_csv(\"./dados/perfil_envolvidos_acidente_final.csv\",encoding=\"ISO 8859-1\")\n",
    "df_vit.rename(columns={'num_boletim':'numero_boletim'},inplace=True)"
   ]
  },
  {
   "cell_type": "code",
   "execution_count": 143,
   "metadata": {},
   "outputs": [],
   "source": [
    "df = pd.merge(df_bol,df_vei,on=\"numero_boletim\",how=\"outer\")\n",
    "if \"data hora_boletim\" in df.columns: df.drop(\"data hora_boletim\",1,inplace=True) \n",
    "if \"Unnamed: 0\" in temp.columns: temp.drop(\"Unnamed: 0\",1,inplace=True)\n",
    "if \"data_hora_boletim\" in df.columns: df.drop(\"data_hora_boletim\",1,inplace=True) \n",
    "df = pd.merge(df,df_log,on=\"numero_boletim\",how=\"outer\")\n",
    "if \"data hora_boletim\" in df.columns: df.drop(\"data hora_boletim\",1,inplace=True) \n",
    "if \"Unnamed: 0\" in temp.columns: temp.drop(\"Unnamed: 0\",1,inplace=True)\n",
    "#if \"data_hora_boletim\" in df.columns: df.drop(\"data_hora_boletim\",1,inplace=True) \n",
    "df = pd.merge(df,df_vit,on=\"numero_boletim\",how=\"outer\")\n",
    "if \"data hora_boletim\" in df.columns: df.drop(\"data hora_boletim\",1,inplace=True) \n",
    "#if \"data_hora_boletim\" in df.columns: df.drop(\"data_hora_boletim\",1,inplace=True) \n",
    "if \"Unnamed: 0\" in temp.columns: temp.drop(\"Unnamed: 0\",1,inplace=True)"
   ]
  },
  {
   "cell_type": "code",
   "execution_count": 144,
   "metadata": {},
   "outputs": [
    {
     "data": {
      "text/html": [
       "<div>\n",
       "<style>\n",
       "    .dataframe thead tr:only-child th {\n",
       "        text-align: right;\n",
       "    }\n",
       "\n",
       "    .dataframe thead th {\n",
       "        text-align: left;\n",
       "    }\n",
       "\n",
       "    .dataframe tbody tr th {\n",
       "        vertical-align: top;\n",
       "    }\n",
       "</style>\n",
       "<table border=\"1\" class=\"dataframe\">\n",
       "  <thead>\n",
       "    <tr style=\"text-align: right;\">\n",
       "      <th></th>\n",
       "      <th>data_inclusao</th>\n",
       "      <th>tipo_acidente</th>\n",
       "      <th>desc_tipo_acidente</th>\n",
       "      <th>desc_regional</th>\n",
       "      <th>origem_boletim</th>\n",
       "      <th>hora_informada</th>\n",
       "      <th>indicador_fatalidade</th>\n",
       "      <th>descricao_ups</th>\n",
       "      <th>descricao_categoria</th>\n",
       "      <th>descricao_especie</th>\n",
       "      <th>...</th>\n",
       "      <th>data_hora_boletim</th>\n",
       "      <th>condutor</th>\n",
       "      <th>desc_severidade</th>\n",
       "      <th>sexo</th>\n",
       "      <th>cinto_seguranca</th>\n",
       "      <th>Embreagues</th>\n",
       "      <th>nascimento</th>\n",
       "      <th>categoria_habilitacao</th>\n",
       "      <th>descricao_habilitacao</th>\n",
       "      <th>especie_veiculo</th>\n",
       "    </tr>\n",
       "  </thead>\n",
       "  <tbody>\n",
       "    <tr>\n",
       "      <th>count</th>\n",
       "      <td>443841</td>\n",
       "      <td>443841</td>\n",
       "      <td>443841</td>\n",
       "      <td>442417</td>\n",
       "      <td>443841</td>\n",
       "      <td>443841</td>\n",
       "      <td>443841</td>\n",
       "      <td>443841</td>\n",
       "      <td>443826</td>\n",
       "      <td>443826</td>\n",
       "      <td>...</td>\n",
       "      <td>443841</td>\n",
       "      <td>443841</td>\n",
       "      <td>443841</td>\n",
       "      <td>443841</td>\n",
       "      <td>443841</td>\n",
       "      <td>443841</td>\n",
       "      <td>443841</td>\n",
       "      <td>443841</td>\n",
       "      <td>443841</td>\n",
       "      <td>443841</td>\n",
       "    </tr>\n",
       "    <tr>\n",
       "      <th>unique</th>\n",
       "      <td>1319</td>\n",
       "      <td>11</td>\n",
       "      <td>11</td>\n",
       "      <td>9</td>\n",
       "      <td>5</td>\n",
       "      <td>2</td>\n",
       "      <td>2</td>\n",
       "      <td>2</td>\n",
       "      <td>6</td>\n",
       "      <td>24</td>\n",
       "      <td>...</td>\n",
       "      <td>71280</td>\n",
       "      <td>3</td>\n",
       "      <td>4</td>\n",
       "      <td>3</td>\n",
       "      <td>3</td>\n",
       "      <td>3</td>\n",
       "      <td>24044</td>\n",
       "      <td>12</td>\n",
       "      <td>12</td>\n",
       "      <td>25</td>\n",
       "    </tr>\n",
       "    <tr>\n",
       "      <th>top</th>\n",
       "      <td>2013-07-15</td>\n",
       "      <td>H01002</td>\n",
       "      <td>ABALROAMENTO COM VITIMA</td>\n",
       "      <td>CENTRO-SUL</td>\n",
       "      <td>PMMG</td>\n",
       "      <td>SIM</td>\n",
       "      <td>NÃO</td>\n",
       "      <td>ACIDENTE COM VÍTIMA NÃO FATAL</td>\n",
       "      <td>PARTICULAR</td>\n",
       "      <td>AUTOMOVEL</td>\n",
       "      <td>...</td>\n",
       "      <td>27/09/2012 19:14</td>\n",
       "      <td>SIM</td>\n",
       "      <td>NAO FATAL</td>\n",
       "      <td>M</td>\n",
       "      <td>NÃO INFORMADO</td>\n",
       "      <td>NÃO INFORMADO</td>\n",
       "      <td>00/00/0000</td>\n",
       "      <td>N</td>\n",
       "      <td>NAO INFORMADO                                 ...</td>\n",
       "      <td>AUTOMOVEL</td>\n",
       "    </tr>\n",
       "    <tr>\n",
       "      <th>freq</th>\n",
       "      <td>1412</td>\n",
       "      <td>229000</td>\n",
       "      <td>229000</td>\n",
       "      <td>102036</td>\n",
       "      <td>289924</td>\n",
       "      <td>443636</td>\n",
       "      <td>439346</td>\n",
       "      <td>438894</td>\n",
       "      <td>356012</td>\n",
       "      <td>220974</td>\n",
       "      <td>...</td>\n",
       "      <td>1122</td>\n",
       "      <td>366193</td>\n",
       "      <td>232173</td>\n",
       "      <td>320495</td>\n",
       "      <td>419816</td>\n",
       "      <td>441927</td>\n",
       "      <td>38258</td>\n",
       "      <td>182540</td>\n",
       "      <td>182540</td>\n",
       "      <td>182831</td>\n",
       "    </tr>\n",
       "  </tbody>\n",
       "</table>\n",
       "<p>4 rows × 29 columns</p>\n",
       "</div>"
      ],
      "text/plain": [
       "       data_inclusao tipo_acidente       desc_tipo_acidente desc_regional  \\\n",
       "count         443841        443841                   443841        442417   \n",
       "unique          1319            11                       11             9   \n",
       "top       2013-07-15        H01002  ABALROAMENTO COM VITIMA    CENTRO-SUL   \n",
       "freq            1412        229000                   229000        102036   \n",
       "\n",
       "       origem_boletim hora_informada indicador_fatalidade  \\\n",
       "count          443841         443841               443841   \n",
       "unique              5              2                    2   \n",
       "top              PMMG            SIM                  NÃO   \n",
       "freq           289924         443636               439346   \n",
       "\n",
       "                        descricao_ups             descricao_categoria  \\\n",
       "count                          443841                          443826   \n",
       "unique                              2                               6   \n",
       "top     ACIDENTE COM VÍTIMA NÃO FATAL  PARTICULAR                       \n",
       "freq                           438894                          356012   \n",
       "\n",
       "                     descricao_especie               ...                \\\n",
       "count                           443826               ...                 \n",
       "unique                              24               ...                 \n",
       "top     AUTOMOVEL                                    ...                 \n",
       "freq                            220974               ...                 \n",
       "\n",
       "       data_hora_boletim condutor  desc_severidade    sexo cinto_seguranca  \\\n",
       "count             443841   443841           443841  443841          443841   \n",
       "unique             71280        3                4       3               3   \n",
       "top     27/09/2012 19:14      SIM  NAO FATAL             M   NÃO INFORMADO   \n",
       "freq                1122   366193           232173  320495          419816   \n",
       "\n",
       "           Embreagues  nascimento categoria_habilitacao  \\\n",
       "count          443841      443841                443841   \n",
       "unique              3       24044                    12   \n",
       "top     NÃO INFORMADO  00/00/0000                   N     \n",
       "freq           441927       38258                182540   \n",
       "\n",
       "                                    descricao_habilitacao  \\\n",
       "count                                              443841   \n",
       "unique                                                 12   \n",
       "top     NAO INFORMADO                                 ...   \n",
       "freq                                               182540   \n",
       "\n",
       "                       especie_veiculo  \n",
       "count                           443841  \n",
       "unique                              25  \n",
       "top     AUTOMOVEL                       \n",
       "freq                            182831  \n",
       "\n",
       "[4 rows x 29 columns]"
      ]
     },
     "execution_count": 144,
     "metadata": {},
     "output_type": "execute_result"
    }
   ],
   "source": [
    "df.describe(include=['O'])"
   ]
  },
  {
   "cell_type": "code",
   "execution_count": 145,
   "metadata": {},
   "outputs": [],
   "source": [
    "df['data_inclusao'] = pd.to_datetime(df['data_inclusao'])\n",
    "df.drop([\"Unnamed: 0_x\",\"Unnamed: 0_y\"],1,inplace=True)"
   ]
  },
  {
   "cell_type": "code",
   "execution_count": 146,
   "metadata": {},
   "outputs": [],
   "source": [
    "df.to_csv('consolidado_total.csv')"
   ]
  },
  {
   "cell_type": "code",
   "execution_count": 148,
   "metadata": {},
   "outputs": [
    {
     "data": {
      "text/plain": [
       "Index(['numero_boletim', 'data_inclusao', 'tipo_acidente',\n",
       "       'desc_tipo_acidente', 'cod_tempo', 'cod_pavimento', 'cod_regional',\n",
       "       'desc_regional', 'origem_boletim', 'velocidade_permitida',\n",
       "       'coordenada_x', 'coordenada_y', 'hora_informada',\n",
       "       'indicador_fatalidade', 'valor_ups', 'descricao_ups',\n",
       "       'valor_ups_antiga', 'sequencial_veiculo', 'descricao_categoria',\n",
       "       'descricao_especie', 'descricao_situacao', 'descricao_tipo_socorro',\n",
       "       'data_boletim', 'numero_municipio', 'nome_municipio',\n",
       "       'sequencia_logradouros', 'numero_logradouro', 'tipo_logradouro',\n",
       "       'nome_logradouro', 'Numero_bairro', 'nome_bairro',\n",
       "       'descricao_tipo_bairro', 'numero_imovel', 'numero_imovel_proximo',\n",
       "       'data_hora_boletim', 'numero_envolvido', 'condutor',\n",
       "       'codigo_severidade', 'desc_severidade', 'sexo', 'cinto_seguranca',\n",
       "       'Embreagues', 'Idade', 'nascimento', 'categoria_habilitacao',\n",
       "       'descricao_habilitacao', 'declaracao_obito', 'cod_severidade_antiga',\n",
       "       'especie_veiculo'],\n",
       "      dtype='object')"
      ]
     },
     "execution_count": 148,
     "metadata": {},
     "output_type": "execute_result"
    }
   ],
   "source": [
    "df.columns"
   ]
  },
  {
   "cell_type": "code",
   "execution_count": null,
   "metadata": {
    "collapsed": true
   },
   "outputs": [],
   "source": []
  }
 ],
 "metadata": {
  "kernelspec": {
   "display_name": "Python 3",
   "language": "python",
   "name": "python3"
  },
  "language_info": {
   "codemirror_mode": {
    "name": "ipython",
    "version": 3
   },
   "file_extension": ".py",
   "mimetype": "text/x-python",
   "name": "python",
   "nbconvert_exporter": "python",
   "pygments_lexer": "ipython3",
   "version": "3.6.3"
  }
 },
 "nbformat": 4,
 "nbformat_minor": 2
}
